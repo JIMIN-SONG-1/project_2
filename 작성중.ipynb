{
 "cells": [
  {
   "cell_type": "code",
   "execution_count": 4,
   "id": "5ec05461-9e63-46b1-8aae-eabc330c8ee7",
   "metadata": {},
   "outputs": [],
   "source": [
    "import numpy as np"
   ]
  },
  {
   "cell_type": "code",
   "execution_count": 6,
   "id": "8aaf8ef8-28ed-4d14-8713-30c4de9c34c2",
   "metadata": {},
   "outputs": [],
   "source": [
    "import pandas as pd"
   ]
  },
  {
   "cell_type": "code",
   "execution_count": 8,
   "id": "b0db42e8-e9f5-4d76-ba98-8797efca90d2",
   "metadata": {},
   "outputs": [],
   "source": [
    "import matplotlib.pyplot as plt"
   ]
  },
  {
   "cell_type": "code",
   "execution_count": 9,
   "id": "d184120e-a77b-4ed7-a2f7-da4406eca0fc",
   "metadata": {},
   "outputs": [],
   "source": [
    "df = pd.read_csv(\"C://Users/302-24/Desktop/kr_population.csv\")"
   ]
  },
  {
   "cell_type": "code",
   "execution_count": 10,
   "id": "49214bfc-3bd5-4024-9567-5efb946d92ae",
   "metadata": {},
   "outputs": [
    {
     "name": "stdout",
     "output_type": "stream",
     "text": [
      "   Year  population   birth   death  increments  birthrate\n",
      "0  1925    12997611  558897  359042      199855       6.59\n",
      "1  1926    13052741  511667  337948      173719        NaN\n",
      "2  1927    13037169  534524  353818      180706        NaN\n",
      "3  1928    13105131  566142  357701      208441        NaN\n",
      "4  1929    13124279  566969  414366      152603        NaN\n"
     ]
    }
   ],
   "source": [
    "print(df.head())"
   ]
  },
  {
   "cell_type": "code",
   "execution_count": 14,
   "id": "9663ea39-235b-4d23-802a-94346a4f932f",
   "metadata": {},
   "outputs": [
    {
     "name": "stdout",
     "output_type": "stream",
     "text": [
      "<class 'pandas.core.frame.DataFrame'>\n",
      "RangeIndex: 97 entries, 0 to 96\n",
      "Data columns (total 6 columns):\n",
      " #   Column      Non-Null Count  Dtype  \n",
      "---  ------      --------------  -----  \n",
      " 0   Year        97 non-null     int64  \n",
      " 1   population  97 non-null     int64  \n",
      " 2   birth       97 non-null     int64  \n",
      " 3   death       97 non-null     int64  \n",
      " 4   increments  97 non-null     int64  \n",
      " 5   birthrate   69 non-null     float64\n",
      "dtypes: float64(1), int64(5)\n",
      "memory usage: 4.7 KB\n",
      "None\n"
     ]
    }
   ],
   "source": [
    "print(df.info())"
   ]
  },
  {
   "cell_type": "code",
   "execution_count": 16,
   "id": "93a6bf3a-7c3c-4b45-8569-cf1c859cc796",
   "metadata": {},
   "outputs": [
    {
     "name": "stdout",
     "output_type": "stream",
     "text": [
      "              Year    population         birth          death     increments  \\\n",
      "count    97.000000  9.700000e+01  9.700000e+01      97.000000      97.000000   \n",
      "mean   1973.000000  3.277411e+07  6.822510e+05  297280.814433  384904.969072   \n",
      "std      28.145456  1.356022e+07  2.071919e+05   68618.622325  228457.231870   \n",
      "min    1925.000000  1.299761e+07  2.605620e+05  210071.000000  -57118.000000   \n",
      "25%    1949.000000  1.956686e+07  5.337680e+05  244506.000000  208441.000000   \n",
      "50%    1973.000000  3.410315e+07  6.400890e+05  275895.000000  355320.000000   \n",
      "75%    1997.000000  4.595358e+07  8.483120e+05  346800.000000  585551.000000   \n",
      "max    2021.000000  5.183624e+07  1.080535e+06  597474.000000  795185.000000   \n",
      "\n",
      "       birthrate  \n",
      "count  69.000000  \n",
      "mean    2.815290  \n",
      "std     1.919868  \n",
      "min     0.808000  \n",
      "25%     1.244000  \n",
      "50%     1.660000  \n",
      "75%     4.540000  \n",
      "max     6.780000  \n"
     ]
    }
   ],
   "source": [
    "print(df.describe())"
   ]
  },
  {
   "cell_type": "code",
   "execution_count": 18,
   "id": "181e81ae-fa86-493c-a1cd-cca55316719e",
   "metadata": {},
   "outputs": [
    {
     "name": "stdout",
     "output_type": "stream",
     "text": [
      "(97, 6)\n"
     ]
    }
   ],
   "source": [
    "print(df.shape)"
   ]
  },
  {
   "cell_type": "code",
   "execution_count": 20,
   "id": "b89b6c46-d5bc-4d11-84ca-c680fe88696c",
   "metadata": {},
   "outputs": [
    {
     "data": {
      "text/plain": [
       "Year           0\n",
       "population     0\n",
       "birth          0\n",
       "death          0\n",
       "increments     0\n",
       "birthrate     28\n",
       "dtype: int64"
      ]
     },
     "execution_count": 20,
     "metadata": {},
     "output_type": "execute_result"
    }
   ],
   "source": [
    "df.isna().sum()"
   ]
  },
  {
   "cell_type": "code",
   "execution_count": 22,
   "id": "20dd414f-8936-4e9c-8373-75592e6ff3dc",
   "metadata": {},
   "outputs": [
    {
     "data": {
      "text/plain": [
       "28"
      ]
     },
     "execution_count": 22,
     "metadata": {},
     "output_type": "execute_result"
    }
   ],
   "source": [
    "df.isna().sum().sum()"
   ]
  },
  {
   "cell_type": "code",
   "execution_count": 24,
   "id": "1fffb358-e9b9-41bf-b241-5c846cc94eb2",
   "metadata": {},
   "outputs": [],
   "source": [
    "df_missing = df[df.isnull().any(axis=1)]"
   ]
  },
  {
   "cell_type": "code",
   "execution_count": 26,
   "id": "ca74b747-84f1-4808-afba-de1abc0a3ced",
   "metadata": {},
   "outputs": [
    {
     "name": "stdout",
     "output_type": "stream",
     "text": [
      "    Year  population    birth   death  increments  birthrate\n",
      "1   1926    13052741   511667  337948      173719        NaN\n",
      "2   1927    13037169   534524  353818      180706        NaN\n",
      "3   1928    13105131   566142  357701      208441        NaN\n",
      "4   1929    13124279   566969  414366      152603        NaN\n",
      "6   1931    13895052   589428  346800      242628        NaN\n",
      "7   1932    14117191   600545  384287      216258        NaN\n",
      "8   1933    14229277   607021  336232      270789        NaN\n",
      "9   1934    14449155   618135  356515      261620        NaN\n",
      "11  1936    15114775   639355  381806      257549        NaN\n",
      "12  1937    15235383   636839  342575      294264        NaN\n",
      "13  1938    15358193   569299  347025      222274        NaN\n",
      "14  1939    15486028   585482  353391      232091        NaN\n",
      "16  1941    15745478   553690  366239      187451        NaN\n",
      "17  1942    16013742   533768  376003      157765        NaN\n",
      "18  1943    16239721   513846  384881      128965        NaN\n",
      "20  1945    16695819   544786  367308      177478        NaN\n",
      "21  1946    19369270   590763  410629      180134        NaN\n",
      "22  1947    19836234   686334  361019      325315        NaN\n",
      "23  1948    20027393   692948  374512      318436        NaN\n",
      "24  1949    20188641   696508  341188      355320        NaN\n",
      "26  1951    19304737   675666  579142       96524        NaN\n",
      "27  1952    19566860   722018  457865      264153        NaN\n",
      "28  1953    19979069   777186  363619      413567        NaN\n",
      "29  1954    20520601   839293  348850      490433        NaN\n",
      "31  1956    21897911   945990  294344      651646        NaN\n",
      "32  1957    22681233   963952  293344      670608        NaN\n",
      "33  1958    23490027   993628  291864      701764        NaN\n",
      "34  1959    24295786  1016173  289525      726648        NaN\n"
     ]
    }
   ],
   "source": [
    "print(df_missing)"
   ]
  },
  {
   "cell_type": "code",
   "execution_count": 28,
   "id": "8ff52525-60a5-4e11-84bd-0b1419b25f8e",
   "metadata": {},
   "outputs": [
    {
     "name": "stdout",
     "output_type": "stream",
     "text": [
      "    Year  population   birth   death  increments  birthrate\n",
      "92  2017    51361911  357771  285534       72237      1.052\n",
      "93  2018    51585058  326822  298820       28002      0.977\n",
      "94  2019    51764822  303054  295132        7922      0.918\n",
      "95  2020    51836239  272337  304948      -32611      0.837\n",
      "96  2021    51744876  260562  317680      -57118      0.808\n"
     ]
    }
   ],
   "source": [
    "print(df.tail())"
   ]
  },
  {
   "cell_type": "code",
   "execution_count": 30,
   "id": "cfe046f5-89fb-4156-969f-2f27cbf9e436",
   "metadata": {},
   "outputs": [],
   "source": [
    "df_clean = df.copy()"
   ]
  },
  {
   "cell_type": "code",
   "execution_count": 32,
   "id": "59c433ae-652f-49cf-b415-049ccab7d2ae",
   "metadata": {},
   "outputs": [],
   "source": [
    "df_clean[\"birthrate\"] = df_clean[\"birthrate\"].fillna(df_clean[\"birthrate\"].median())"
   ]
  },
  {
   "cell_type": "code",
   "execution_count": 34,
   "id": "18b41aeb-2c6d-4918-950e-d68d2ea9ef1f",
   "metadata": {},
   "outputs": [
    {
     "data": {
      "text/plain": [
       "Year          0\n",
       "population    0\n",
       "birth         0\n",
       "death         0\n",
       "increments    0\n",
       "birthrate     0\n",
       "dtype: int64"
      ]
     },
     "execution_count": 34,
     "metadata": {},
     "output_type": "execute_result"
    }
   ],
   "source": [
    "# 결측값 확인\n",
    "df_clean.isna().sum()"
   ]
  },
  {
   "cell_type": "code",
   "execution_count": 44,
   "id": "43db2eb4-c814-4f0f-b99a-686be23da9c7",
   "metadata": {},
   "outputs": [
    {
     "ename": "SyntaxError",
     "evalue": "closing parenthesis ']' does not match opening parenthesis '(' (4030359388.py, line 13)",
     "output_type": "error",
     "traceback": [
      "\u001b[1;36m  Cell \u001b[1;32mIn[44], line 13\u001b[1;36m\u001b[0m\n\u001b[1;33m    axes[0, 1].plot(df_clean[\"Year\"], df_clean[\"birth\"], color=\"green\", label=\"Births\"]\u001b[0m\n\u001b[1;37m                                                                                      ^\u001b[0m\n\u001b[1;31mSyntaxError\u001b[0m\u001b[1;31m:\u001b[0m closing parenthesis ']' does not match opening parenthesis '('\n"
     ]
    }
   ],
   "source": [
    "# sub 플롯 생성 (2x2 레이아웃)\n",
    "fig, axes = plt.subplot(2, 2, figsize=(14, 10))\n",
    "\n",
    "# 연도별 총 인구 변화\n",
    "axes[0, 0].plot(df_clean[\"Year\"], df_clean[\"population\"], color=\"blue\", label=\"Population\")\n",
    "axes[0, 0].set_title(\"Annual Total Population Change\")\n",
    "axes[0, 0].set_xlabel(\"Year\")\n",
    "axes[0, 0].set_ylabel(\"Population\")\n",
    "axes[0, 0].legend()\n",
    "axes[0, 0].grid(True)\n",
    "\n",
    "# 출생 vs 사망 비교 \n",
    "axes[0, 1].plot(df_clean[\"Year\"], df_clean[\"birth\"], color=\"green\", label=\"Births\"]\n",
    "axes[0, 1].plot(df_clean[\"Year\"], df_clean[\"Death\"], color=\"red\", label=\"Deaths\"]\n",
    "axes[0, 1].set_title(\"Births vs Deaths\")\n",
    "axes[0, 1].set_xlabel(\"Year\")\n",
    "axes[0, 1].set_ylabel(\"Count\")\n",
    "axes[0, 1].legend()\n",
    "axes[0, 1].gird(True)\n",
    "\n",
    "# 연도별 인구 증가량 변화\n",
    "axes[1, 0].scatter(df_clean[\"Year\"], df_clean[\"increments\"], color=\"purple\", label=\"Increments\")\n"
   ]
  },
  {
   "cell_type": "code",
   "execution_count": null,
   "id": "95daa837-2830-4a4f-8314-ef15c9700957",
   "metadata": {},
   "outputs": [],
   "source": []
  }
 ],
 "metadata": {
  "kernelspec": {
   "display_name": "Python [conda env:base] *",
   "language": "python",
   "name": "conda-base-py"
  },
  "language_info": {
   "codemirror_mode": {
    "name": "ipython",
    "version": 3
   },
   "file_extension": ".py",
   "mimetype": "text/x-python",
   "name": "python",
   "nbconvert_exporter": "python",
   "pygments_lexer": "ipython3",
   "version": "3.12.7"
  }
 },
 "nbformat": 4,
 "nbformat_minor": 5
}
